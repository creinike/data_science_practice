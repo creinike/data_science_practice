{
 "cells": [
  {
   "cell_type": "markdown",
   "metadata": {},
   "source": [
    "<center><u><H1>MySQL y Pandas</H1></u></center>"
   ]
  },
  {
   "cell_type": "markdown",
   "metadata": {},
   "source": [
    "## Installation:\n",
    "- pip install PyMySQL"
   ]
  },
  {
   "cell_type": "code",
   "execution_count": 1,
   "metadata": {},
   "outputs": [],
   "source": [
    "import pymysql\n",
    "import pandas as pd"
   ]
  },
  {
   "cell_type": "markdown",
   "metadata": {},
   "source": [
    "## Open a Connection:"
   ]
  },
  {
   "cell_type": "code",
   "execution_count": 6,
   "metadata": {},
   "outputs": [],
   "source": [
    "def connection():\n",
    "    try:\n",
    "        conn = pymysql.connect(host='127.0.0.1',\n",
    "                               port=3306,\n",
    "                               user='python',\n",
    "                               password='mysql',\n",
    "                               db='customers')\n",
    "    finally:\n",
    "        print(\"Conexion Exitosa\")\n",
    "    return conn   "
   ]
  },
  {
   "cell_type": "markdown",
   "metadata": {},
   "source": [
    "## Select "
   ]
  },
  {
   "cell_type": "code",
   "execution_count": 7,
   "metadata": {},
   "outputs": [
    {
     "name": "stdout",
     "output_type": "stream",
     "text": [
      "Conexion Exitosa\n"
     ]
    },
    {
     "data": {
      "text/html": [
       "<div>\n",
       "<style scoped>\n",
       "    .dataframe tbody tr th:only-of-type {\n",
       "        vertical-align: middle;\n",
       "    }\n",
       "\n",
       "    .dataframe tbody tr th {\n",
       "        vertical-align: top;\n",
       "    }\n",
       "\n",
       "    .dataframe thead th {\n",
       "        text-align: right;\n",
       "    }\n",
       "</style>\n",
       "<table border=\"1\" class=\"dataframe\">\n",
       "  <thead>\n",
       "    <tr style=\"text-align: right;\">\n",
       "      <th></th>\n",
       "      <th>Name</th>\n",
       "      <th>sex</th>\n",
       "      <th>State</th>\n",
       "      <th>Tel</th>\n",
       "    </tr>\n",
       "  </thead>\n",
       "  <tbody>\n",
       "    <tr>\n",
       "      <th>0</th>\n",
       "      <td>Lucy Mall</td>\n",
       "      <td>F</td>\n",
       "      <td>CA</td>\n",
       "      <td>805-5553338</td>\n",
       "    </tr>\n",
       "    <tr>\n",
       "      <th>1</th>\n",
       "      <td>Carl Sagan</td>\n",
       "      <td>M</td>\n",
       "      <td>NY</td>\n",
       "      <td>800-8526680</td>\n",
       "    </tr>\n",
       "    <tr>\n",
       "      <th>2</th>\n",
       "      <td>Erick Mathew</td>\n",
       "      <td>M</td>\n",
       "      <td>CA</td>\n",
       "      <td>805-2151048</td>\n",
       "    </tr>\n",
       "    <tr>\n",
       "      <th>3</th>\n",
       "      <td>Selena Wang</td>\n",
       "      <td>F</td>\n",
       "      <td>NY</td>\n",
       "      <td>801-1152279</td>\n",
       "    </tr>\n",
       "    <tr>\n",
       "      <th>4</th>\n",
       "      <td>Michael Platini</td>\n",
       "      <td>M</td>\n",
       "      <td>NY</td>\n",
       "      <td>805-5251348</td>\n",
       "    </tr>\n",
       "  </tbody>\n",
       "</table>\n",
       "</div>"
      ],
      "text/plain": [
       "              Name sex State          Tel\n",
       "0        Lucy Mall   F    CA  805-5553338\n",
       "1       Carl Sagan   M    NY  800-8526680\n",
       "2     Erick Mathew   M    CA  805-2151048\n",
       "3      Selena Wang   F    NY  801-1152279\n",
       "4  Michael Platini   M    NY  805-5251348"
      ]
     },
     "execution_count": 7,
     "metadata": {},
     "output_type": "execute_result"
    }
   ],
   "source": [
    "conn = connection()\n",
    "    \n",
    "sql = \"SELECT name,sex,state,tel FROM client\"\n",
    "        \n",
    "titles='Name sex State Tel'.split()\n",
    "        \n",
    "df=pd.read_sql(sql,con=conn)\n",
    "        \n",
    "df.columns = titles\n",
    "           \n",
    "conn.close()\n",
    "df.head()"
   ]
  },
  {
   "cell_type": "markdown",
   "metadata": {},
   "source": [
    "## JOIN:"
   ]
  },
  {
   "cell_type": "code",
   "execution_count": 10,
   "metadata": {},
   "outputs": [
    {
     "name": "stdout",
     "output_type": "stream",
     "text": [
      "Conexion Exitosa\n"
     ]
    },
    {
     "data": {
      "text/html": [
       "<div>\n",
       "<style scoped>\n",
       "    .dataframe tbody tr th:only-of-type {\n",
       "        vertical-align: middle;\n",
       "    }\n",
       "\n",
       "    .dataframe tbody tr th {\n",
       "        vertical-align: top;\n",
       "    }\n",
       "\n",
       "    .dataframe thead th {\n",
       "        text-align: right;\n",
       "    }\n",
       "</style>\n",
       "<table border=\"1\" class=\"dataframe\">\n",
       "  <thead>\n",
       "    <tr style=\"text-align: right;\">\n",
       "      <th></th>\n",
       "      <th>Name</th>\n",
       "      <th>Sex</th>\n",
       "      <th>State</th>\n",
       "      <th>Tel</th>\n",
       "      <th>Address</th>\n",
       "    </tr>\n",
       "  </thead>\n",
       "  <tbody>\n",
       "    <tr>\n",
       "      <th>0</th>\n",
       "      <td>Lucy Mall</td>\n",
       "      <td>F</td>\n",
       "      <td>CA</td>\n",
       "      <td>805-5553338</td>\n",
       "      <td>10017 Santa Monica Boulevard-LA, CA 90025-4718</td>\n",
       "    </tr>\n",
       "    <tr>\n",
       "      <th>1</th>\n",
       "      <td>Carl Sagan</td>\n",
       "      <td>M</td>\n",
       "      <td>NY</td>\n",
       "      <td>800-8526680</td>\n",
       "      <td>309 W 35th St, New York, NY 10001</td>\n",
       "    </tr>\n",
       "    <tr>\n",
       "      <th>2</th>\n",
       "      <td>Erick Mathew</td>\n",
       "      <td>M</td>\n",
       "      <td>CA</td>\n",
       "      <td>805-2151048</td>\n",
       "      <td>18110 Vanowen St, Reseda, CA 91335</td>\n",
       "    </tr>\n",
       "    <tr>\n",
       "      <th>3</th>\n",
       "      <td>Selena Wang</td>\n",
       "      <td>F</td>\n",
       "      <td>NY</td>\n",
       "      <td>801-1152279</td>\n",
       "      <td>307 E 5th St, New York, NY 10003</td>\n",
       "    </tr>\n",
       "    <tr>\n",
       "      <th>4</th>\n",
       "      <td>Michael Platini</td>\n",
       "      <td>M</td>\n",
       "      <td>NY</td>\n",
       "      <td>805-5251348</td>\n",
       "      <td>1204 W 11th St, New York, NY 10001</td>\n",
       "    </tr>\n",
       "  </tbody>\n",
       "</table>\n",
       "</div>"
      ],
      "text/plain": [
       "              Name Sex State          Tel  \\\n",
       "0        Lucy Mall   F    CA  805-5553338   \n",
       "1       Carl Sagan   M    NY  800-8526680   \n",
       "2     Erick Mathew   M    CA  805-2151048   \n",
       "3      Selena Wang   F    NY  801-1152279   \n",
       "4  Michael Platini   M    NY  805-5251348   \n",
       "\n",
       "                                          Address  \n",
       "0  10017 Santa Monica Boulevard-LA, CA 90025-4718  \n",
       "1               309 W 35th St, New York, NY 10001  \n",
       "2              18110 Vanowen St, Reseda, CA 91335  \n",
       "3                307 E 5th St, New York, NY 10003  \n",
       "4              1204 W 11th St, New York, NY 10001  "
      ]
     },
     "execution_count": 10,
     "metadata": {},
     "output_type": "execute_result"
    }
   ],
   "source": [
    "conn = connection()\n",
    "sql = \"select name,sex,state,tel,addr as address from client join address on client.idclient = address.idcli\"\n",
    "titles='Name Sex State Tel Address'.split()\n",
    "df=pd.read_sql(sql,con=conn)\n",
    "df.columns = titles\n",
    "            \n",
    "conn.close()\n",
    "df.head()"
   ]
  },
  {
   "cell_type": "markdown",
   "metadata": {},
   "source": [
    "## Conditional Select:"
   ]
  },
  {
   "cell_type": "code",
   "execution_count": 11,
   "metadata": {},
   "outputs": [
    {
     "name": "stdout",
     "output_type": "stream",
     "text": [
      "Conexion Exitosa\n"
     ]
    },
    {
     "data": {
      "text/html": [
       "<div>\n",
       "<style scoped>\n",
       "    .dataframe tbody tr th:only-of-type {\n",
       "        vertical-align: middle;\n",
       "    }\n",
       "\n",
       "    .dataframe tbody tr th {\n",
       "        vertical-align: top;\n",
       "    }\n",
       "\n",
       "    .dataframe thead th {\n",
       "        text-align: right;\n",
       "    }\n",
       "</style>\n",
       "<table border=\"1\" class=\"dataframe\">\n",
       "  <thead>\n",
       "    <tr style=\"text-align: right;\">\n",
       "      <th></th>\n",
       "      <th>Name</th>\n",
       "      <th>Sex</th>\n",
       "      <th>State</th>\n",
       "      <th>Tel</th>\n",
       "      <th>Address</th>\n",
       "    </tr>\n",
       "  </thead>\n",
       "  <tbody>\n",
       "    <tr>\n",
       "      <th>0</th>\n",
       "      <td>Lucy Mall</td>\n",
       "      <td>F</td>\n",
       "      <td>CA</td>\n",
       "      <td>805-5553338</td>\n",
       "      <td>10017 Santa Monica Boulevard-LA, CA 90025-4718</td>\n",
       "    </tr>\n",
       "    <tr>\n",
       "      <th>1</th>\n",
       "      <td>Erick Mathew</td>\n",
       "      <td>M</td>\n",
       "      <td>CA</td>\n",
       "      <td>805-2151048</td>\n",
       "      <td>18110 Vanowen St, Reseda, CA 91335</td>\n",
       "    </tr>\n",
       "  </tbody>\n",
       "</table>\n",
       "</div>"
      ],
      "text/plain": [
       "           Name Sex State          Tel  \\\n",
       "0     Lucy Mall   F    CA  805-5553338   \n",
       "1  Erick Mathew   M    CA  805-2151048   \n",
       "\n",
       "                                          Address  \n",
       "0  10017 Santa Monica Boulevard-LA, CA 90025-4718  \n",
       "1              18110 Vanowen St, Reseda, CA 91335  "
      ]
     },
     "execution_count": 11,
     "metadata": {},
     "output_type": "execute_result"
    }
   ],
   "source": [
    "conn = connection()\n",
    "state = 'CA'\n",
    "    \n",
    "sql = \"select name,sex,state,tel,addr as Address from client join address on client.idclient = address.idcli where state='\"+ state +\"'\"\n",
    "titles='Name Sex State Tel Address'.split()\n",
    "        \n",
    "df=pd.read_sql(sql,con=conn)    \n",
    "df.columns = titles\n",
    "df.head()"
   ]
  },
  {
   "cell_type": "markdown",
   "metadata": {},
   "source": [
    "## Reference:\n",
    "\n",
    "https://pypi.org/project/PyMySQL/\n",
    "\n",
    "http://pymysql.readthedocs.io/en/latest/user/examples.html"
   ]
  }
 ],
 "metadata": {
  "kernelspec": {
   "display_name": "Python 3",
   "language": "python",
   "name": "python3"
  },
  "language_info": {
   "codemirror_mode": {
    "name": "ipython",
    "version": 3
   },
   "file_extension": ".py",
   "mimetype": "text/x-python",
   "name": "python",
   "nbconvert_exporter": "python",
   "pygments_lexer": "ipython3",
   "version": "3.6.8"
  },
  "toc": {
   "base_numbering": 1,
   "nav_menu": {},
   "number_sections": true,
   "sideBar": true,
   "skip_h1_title": false,
   "title_cell": "Table of Contents",
   "title_sidebar": "Contents",
   "toc_cell": false,
   "toc_position": {},
   "toc_section_display": true,
   "toc_window_display": false
  },
  "varInspector": {
   "cols": {
    "lenName": 16,
    "lenType": 16,
    "lenVar": 40
   },
   "kernels_config": {
    "python": {
     "delete_cmd_postfix": "",
     "delete_cmd_prefix": "del ",
     "library": "var_list.py",
     "varRefreshCmd": "print(var_dic_list())"
    },
    "r": {
     "delete_cmd_postfix": ") ",
     "delete_cmd_prefix": "rm(",
     "library": "var_list.r",
     "varRefreshCmd": "cat(var_dic_list()) "
    }
   },
   "types_to_exclude": [
    "module",
    "function",
    "builtin_function_or_method",
    "instance",
    "_Feature"
   ],
   "window_display": false
  }
 },
 "nbformat": 4,
 "nbformat_minor": 2
}
