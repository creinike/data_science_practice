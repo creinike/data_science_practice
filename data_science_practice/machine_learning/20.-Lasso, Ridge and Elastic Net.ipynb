{
 "cells": [
  {
   "cell_type": "markdown",
   "metadata": {},
   "source": [
    "<center><u><H1>Lasso, Ridge and Elastic Net</center></u></H1>"
   ]
  },
  {
   "cell_type": "code",
   "execution_count": 1,
   "metadata": {},
   "outputs": [],
   "source": [
    "from sklearn.datasets import load_boston\n",
    "from sklearn.preprocessing import StandardScaler\n",
    "from sklearn.model_selection import train_test_split\n",
    "from sklearn.linear_model import LinearRegression\n",
    "from sklearn.metrics import r2_score\n",
    "from sklearn.metrics import mean_squared_error\n",
    "from sklearn.linear_model import ElasticNet, Lasso, Ridge\n",
    "import numpy as np"
   ]
  },
  {
   "cell_type": "markdown",
   "metadata": {},
   "source": [
    "## Loading Data"
   ]
  },
  {
   "cell_type": "code",
   "execution_count": 2,
   "metadata": {},
   "outputs": [],
   "source": [
    "boston = load_boston()\n",
    "X = boston.data\n",
    "y = boston.target"
   ]
  },
  {
   "cell_type": "code",
   "execution_count": 3,
   "metadata": {},
   "outputs": [],
   "source": [
    "y = y[:, np.newaxis]\n",
    "\n",
    "sc_X = StandardScaler()\n",
    "sc_y = StandardScaler()\n",
    "\n",
    "X_std = sc_X.fit_transform(X)\n",
    "y_std = sc_y.fit_transform(y)"
   ]
  },
  {
   "cell_type": "code",
   "execution_count": 4,
   "metadata": {},
   "outputs": [],
   "source": [
    "X_train, X_test, y_train, y_test = train_test_split(X_std, y_std, test_size=0.3, random_state=2019)"
   ]
  },
  {
   "cell_type": "markdown",
   "metadata": {},
   "source": [
    "## Creating Model"
   ]
  },
  {
   "cell_type": "code",
   "execution_count": 5,
   "metadata": {},
   "outputs": [
    {
     "name": "stdout",
     "output_type": "stream",
     "text": [
      "Linear Regression Coefficients: [[-0.1303603   0.09976528 -0.02792157  0.12000202 -0.21778363  0.35349642\n",
      "   0.00195962 -0.33163888  0.27955536 -0.18418271 -0.19685577  0.11354501\n",
      "  -0.37861393]]\n"
     ]
    }
   ],
   "source": [
    "lr = LinearRegression()\n",
    "lr.fit(X_train,y_train)\n",
    "print(f\"Linear Regression Coefficients: {lr.coef_}\")"
   ]
  },
  {
   "cell_type": "markdown",
   "metadata": {},
   "source": [
    "## Metrics"
   ]
  },
  {
   "cell_type": "code",
   "execution_count": 6,
   "metadata": {},
   "outputs": [],
   "source": [
    "lr_pred_test = lr.predict(X_test)\n",
    "lr_pred_train = lr.predict(X_train)"
   ]
  },
  {
   "cell_type": "code",
   "execution_count": 7,
   "metadata": {},
   "outputs": [
    {
     "name": "stdout",
     "output_type": "stream",
     "text": [
      "R2 on test data: 0.66\n",
      "R2 on train data: 0.76\n"
     ]
    }
   ],
   "source": [
    "print(\"R2 on test data: {:.2}\".format(r2_score(y_test, lr_pred_test)))\n",
    "print(\"R2 on train data: {:.2}\".format(r2_score(y_train, lr_pred_train)))"
   ]
  },
  {
   "cell_type": "code",
   "execution_count": 8,
   "metadata": {},
   "outputs": [
    {
     "name": "stdout",
     "output_type": "stream",
     "text": [
      "MSE on test data: 0.28\n",
      "RMSE on test data: 0.529\n",
      "MSE on train data: 0.26\n",
      "RMSE on train data: 0.51\n"
     ]
    }
   ],
   "source": [
    "mse = mean_squared_error(y_test, lr_pred_test)\n",
    "print('MSE on test data: {:.3}'.format(mse))\n",
    "\n",
    "rmse = np.sqrt(mse)\n",
    "print('RMSE on test data: {:.3}'.format(rmse))\n",
    "\n",
    "mse_ = mean_squared_error(y_train, lr_pred_train)\n",
    "print('MSE on train data: {:.3}'.format(mse_))\n",
    "\n",
    "rmse_ = np.sqrt(mse_)\n",
    "print('RMSE on train data: {:.3}'.format(rmse_))"
   ]
  },
  {
   "cell_type": "markdown",
   "metadata": {},
   "source": [
    "## Lasso"
   ]
  },
  {
   "cell_type": "code",
   "execution_count": 9,
   "metadata": {},
   "outputs": [
    {
     "name": "stdout",
     "output_type": "stream",
     "text": [
      "Lasso Coefficients: [-0.01259014  0.         -0.          0.02928655 -0.          0.36437823\n",
      " -0.         -0.         -0.         -0.         -0.13869153  0.0312774\n",
      " -0.35745023]\n"
     ]
    }
   ],
   "source": [
    "lasso = Lasso(alpha=0.1)\n",
    "lasso.fit(X_train,y_train)\n",
    "print(f\"Lasso Coefficients: {lasso.coef_}\")"
   ]
  },
  {
   "cell_type": "markdown",
   "metadata": {},
   "source": [
    "### Lasso Metrics"
   ]
  },
  {
   "cell_type": "code",
   "execution_count": 10,
   "metadata": {},
   "outputs": [
    {
     "name": "stdout",
     "output_type": "stream",
     "text": [
      "R2 on test data: 0.65\n",
      "R2 on train data: 0.68\n"
     ]
    }
   ],
   "source": [
    "pred_lasso_test = lasso.predict(X_test)\n",
    "pred_lasso_train = lasso.predict(X_train)\n",
    "\n",
    "print(\"R2 on test data: {:.2}\".format(r2_score(y_test, pred_lasso_test)))\n",
    "print(\"R2 on train data: {:.2}\".format(r2_score(y_train, pred_lasso_train)))"
   ]
  },
  {
   "cell_type": "code",
   "execution_count": 11,
   "metadata": {},
   "outputs": [
    {
     "name": "stdout",
     "output_type": "stream",
     "text": [
      "RMSE on test data: 0.543\n",
      "RMSE on train data: 0.58\n"
     ]
    }
   ],
   "source": [
    "mse = mean_squared_error(y_test, pred_lasso_test)\n",
    "print('RMSE on test data: {:.3}'.format(np.sqrt(mse)))\n",
    "\n",
    "mse_ = mean_squared_error(y_train, pred_lasso_train)\n",
    "print('RMSE on train data: {:.3}'.format(np.sqrt(mse_)))"
   ]
  },
  {
   "cell_type": "markdown",
   "metadata": {},
   "source": [
    "## Ridge"
   ]
  },
  {
   "cell_type": "code",
   "execution_count": 12,
   "metadata": {},
   "outputs": [
    {
     "name": "stdout",
     "output_type": "stream",
     "text": [
      "Ridge Coefficients: [[-0.08340265  0.04249766 -0.07937845  0.10553979 -0.08330114  0.33281382\n",
      "  -0.00863974 -0.15092436  0.06438632 -0.05035607 -0.16060704  0.08920213\n",
      "  -0.29305712]]\n"
     ]
    }
   ],
   "source": [
    "ridge = Ridge(alpha=100.0)\n",
    "ridge.fit(X_train,y_train)\n",
    "print(f\"Ridge Coefficients: {ridge.coef_}\")"
   ]
  },
  {
   "cell_type": "markdown",
   "metadata": {},
   "source": [
    "### Ridge Metrics"
   ]
  },
  {
   "cell_type": "code",
   "execution_count": 13,
   "metadata": {},
   "outputs": [
    {
     "name": "stdout",
     "output_type": "stream",
     "text": [
      "R2 on test data: 0.67\n",
      "R2 on train data: 0.73\n"
     ]
    }
   ],
   "source": [
    "pred_ridge_test = ridge.predict(X_test)\n",
    "pred_ridge_train = ridge.predict(X_train)\n",
    "\n",
    "print(\"R2 on test data: {:.2}\".format(r2_score(y_test, pred_ridge_test)))\n",
    "print(\"R2 on train data: {:.2}\".format(r2_score(y_train, pred_ridge_train)))"
   ]
  },
  {
   "cell_type": "code",
   "execution_count": 14,
   "metadata": {},
   "outputs": [
    {
     "name": "stdout",
     "output_type": "stream",
     "text": [
      "RMSE on test data: 0.528\n",
      "RMSE on train data: 0.538\n"
     ]
    }
   ],
   "source": [
    "rmse = np.sqrt(mean_squared_error(y_test, pred_ridge_test))\n",
    "print('RMSE on test data: {:.3}'.format(rmse))\n",
    "\n",
    "rmse_ = np.sqrt(mean_squared_error(y_train, pred_ridge_train))\n",
    "print('RMSE on train data: {:.3}'.format(rmse_))"
   ]
  },
  {
   "cell_type": "markdown",
   "metadata": {},
   "source": [
    "## Elastic Net"
   ]
  },
  {
   "cell_type": "code",
   "execution_count": 15,
   "metadata": {},
   "outputs": [
    {
     "name": "stdout",
     "output_type": "stream",
     "text": [
      "Elastic Net Coefficients: [-0.02261441  0.         -0.01162014  0.02800961 -0.          0.3431715\n",
      " -0.         -0.         -0.         -0.0011218  -0.13704192  0.03392044\n",
      " -0.32499653]\n"
     ]
    }
   ],
   "source": [
    "e_net = ElasticNet(alpha=0.2, l1_ratio=0.5)\n",
    "e_net.fit(X_train,y_train)\n",
    "print(f\"Elastic Net Coefficients: {e_net.coef_}\")"
   ]
  },
  {
   "cell_type": "markdown",
   "metadata": {},
   "source": [
    "### Elastic Net Metrics"
   ]
  },
  {
   "cell_type": "code",
   "execution_count": 16,
   "metadata": {},
   "outputs": [
    {
     "name": "stdout",
     "output_type": "stream",
     "text": [
      "R2 on test data: 0.64\n",
      "R2 on train data: 0.68\n"
     ]
    }
   ],
   "source": [
    "pred_enet_test = e_net.predict(X_test)\n",
    "pred_enet_train = e_net.predict(X_train)\n",
    "\n",
    "print(\"R2 on test data: {:.2}\".format(r2_score(y_test, pred_enet_test)))\n",
    "print(\"R2 on train data: {:.2}\".format(r2_score(y_train, pred_enet_train)))"
   ]
  },
  {
   "cell_type": "code",
   "execution_count": 17,
   "metadata": {},
   "outputs": [
    {
     "name": "stdout",
     "output_type": "stream",
     "text": [
      "RMSE on test data: 0.545\n",
      "RMSE on train data: 0.586\n"
     ]
    }
   ],
   "source": [
    "mse = mean_squared_error(y_test, pred_enet_test)\n",
    "print('RMSE on test data: {:.3}'.format(np.sqrt(mse)))\n",
    "\n",
    "mse_ = mean_squared_error(y_train, pred_enet_train)\n",
    "print('RMSE on train data: {:.3}'.format(np.sqrt(mse_)))"
   ]
  },
  {
   "cell_type": "markdown",
   "metadata": {},
   "source": [
    "## References:\n",
    "\n",
    "http://scikit-learn.org/stable/modules/generated/sklearn.linear_model.ElasticNet.html\n",
    "\n",
    "http://scikit-learn.org/stable/modules/generated/sklearn.linear_model.Lasso.html\n",
    "\n",
    "http://scikit-learn.org/stable/modules/generated/sklearn.linear_model.Ridge.html"
   ]
  }
 ],
 "metadata": {
  "kernelspec": {
   "display_name": "py3.7",
   "language": "python",
   "name": "py37"
  },
  "language_info": {
   "codemirror_mode": {
    "name": "ipython",
    "version": 3
   },
   "file_extension": ".py",
   "mimetype": "text/x-python",
   "name": "python",
   "nbconvert_exporter": "python",
   "pygments_lexer": "ipython3",
   "version": "3.7.4"
  },
  "toc": {
   "base_numbering": 1,
   "nav_menu": {},
   "number_sections": true,
   "sideBar": true,
   "skip_h1_title": false,
   "title_cell": "Table of Contents",
   "title_sidebar": "Contents",
   "toc_cell": false,
   "toc_position": {},
   "toc_section_display": true,
   "toc_window_display": false
  },
  "varInspector": {
   "cols": {
    "lenName": 16,
    "lenType": 16,
    "lenVar": 40
   },
   "kernels_config": {
    "python": {
     "delete_cmd_postfix": "",
     "delete_cmd_prefix": "del ",
     "library": "var_list.py",
     "varRefreshCmd": "print(var_dic_list())"
    },
    "r": {
     "delete_cmd_postfix": ") ",
     "delete_cmd_prefix": "rm(",
     "library": "var_list.r",
     "varRefreshCmd": "cat(var_dic_list()) "
    }
   },
   "types_to_exclude": [
    "module",
    "function",
    "builtin_function_or_method",
    "instance",
    "_Feature"
   ],
   "window_display": false
  }
 },
 "nbformat": 4,
 "nbformat_minor": 2
}
