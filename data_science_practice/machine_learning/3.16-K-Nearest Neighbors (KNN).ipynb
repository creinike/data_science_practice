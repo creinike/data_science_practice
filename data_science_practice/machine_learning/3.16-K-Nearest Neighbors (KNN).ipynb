{
 "cells": [
  {
   "cell_type": "markdown",
   "metadata": {},
   "source": [
    "<center><u><H1>K-Nearest Neighbors (KNN)</H1></u></center>"
   ]
  },
  {
   "cell_type": "code",
   "execution_count": 1,
   "metadata": {},
   "outputs": [],
   "source": [
    "import numpy as np\n",
    "import matplotlib.pyplot as plt\n",
    "%matplotlib inline\n",
    "from sklearn.datasets import load_iris\n",
    "from sklearn.preprocessing import StandardScaler\n",
    "from sklearn.model_selection import train_test_split, cross_val_score\n",
    "from sklearn.metrics import classification_report, confusion_matrix, accuracy_score"
   ]
  },
  {
   "cell_type": "markdown",
   "metadata": {},
   "source": [
    "## Loading the data:"
   ]
  },
  {
   "cell_type": "code",
   "execution_count": 2,
   "metadata": {},
   "outputs": [],
   "source": [
    "iris = load_iris()\n",
    "X=iris.data\n",
    "y=iris.target"
   ]
  },
  {
   "cell_type": "markdown",
   "metadata": {},
   "source": [
    "## Preprocessing the data:"
   ]
  },
  {
   "cell_type": "code",
   "execution_count": 3,
   "metadata": {},
   "outputs": [],
   "source": [
    "X_train, X_test, y_train, y_test = train_test_split(X, y, test_size=0.30, random_state=2019)"
   ]
  },
  {
   "cell_type": "code",
   "execution_count": 4,
   "metadata": {},
   "outputs": [],
   "source": [
    "sc = StandardScaler()\n",
    "X_std = sc.fit_transform(X)\n",
    "X_train_std = sc.transform(X_train)\n",
    "X_test_std = sc.transform(X_test)"
   ]
  },
  {
   "cell_type": "markdown",
   "metadata": {},
   "source": [
    "## Creating the model:"
   ]
  },
  {
   "cell_type": "code",
   "execution_count": 5,
   "metadata": {},
   "outputs": [],
   "source": [
    "from sklearn.neighbors import KNeighborsClassifier as KNN\n",
    "knn = KNN(n_neighbors=3)"
   ]
  },
  {
   "cell_type": "code",
   "execution_count": 6,
   "metadata": {},
   "outputs": [
    {
     "data": {
      "text/plain": [
       "KNeighborsClassifier(algorithm='auto', leaf_size=30, metric='minkowski',\n",
       "                     metric_params=None, n_jobs=None, n_neighbors=3, p=2,\n",
       "                     weights='uniform')"
      ]
     },
     "execution_count": 6,
     "metadata": {},
     "output_type": "execute_result"
    }
   ],
   "source": [
    "knn.fit(X_train_std, y_train)"
   ]
  },
  {
   "cell_type": "markdown",
   "metadata": {},
   "source": [
    "## Metrics:"
   ]
  },
  {
   "cell_type": "code",
   "execution_count": 7,
   "metadata": {},
   "outputs": [
    {
     "name": "stdout",
     "output_type": "stream",
     "text": [
      "Predictions: [0 0 2 1 2 0 2 0 1 2 2 2 2 1 0 1 2 1 0 2 0 2 0 1 0 0 2 2 1 0 2 0 0 2 2 0 0\n",
      " 2 0 1 0 1 0 2 1]\n"
     ]
    }
   ],
   "source": [
    "knn_pred = knn.predict(X_test_std)\n",
    "print(f\"Predictions: {knn_pred}\")"
   ]
  },
  {
   "cell_type": "code",
   "execution_count": 9,
   "metadata": {},
   "outputs": [
    {
     "name": "stdout",
     "output_type": "stream",
     "text": [
      "Accuracy Score:0.9555555555555556\n"
     ]
    }
   ],
   "source": [
    "print(f\"Accuracy Score:{accuracy_score(y_test,knn_pred)}\")"
   ]
  },
  {
   "cell_type": "code",
   "execution_count": 10,
   "metadata": {},
   "outputs": [
    {
     "name": "stdout",
     "output_type": "stream",
     "text": [
      "Confusion Matrix:\n",
      "[[18  1  0]\n",
      " [ 0  9  1]\n",
      " [ 0  0 16]]\n"
     ]
    }
   ],
   "source": [
    "print(f\"Confusion Matrix:\\n{confusion_matrix(y_test,knn_pred)}\")"
   ]
  },
  {
   "cell_type": "code",
   "execution_count": 11,
   "metadata": {},
   "outputs": [
    {
     "name": "stdout",
     "output_type": "stream",
     "text": [
      "Classification Report:\n",
      "              precision    recall  f1-score   support\n",
      "\n",
      "           0       1.00      0.95      0.97        19\n",
      "           1       0.90      0.90      0.90        10\n",
      "           2       0.94      1.00      0.97        16\n",
      "\n",
      "    accuracy                           0.96        45\n",
      "   macro avg       0.95      0.95      0.95        45\n",
      "weighted avg       0.96      0.96      0.96        45\n",
      "\n"
     ]
    }
   ],
   "source": [
    "print(f\"Classification Report:\\n{classification_report(y_test,knn_pred)}\")"
   ]
  },
  {
   "cell_type": "markdown",
   "metadata": {},
   "source": [
    "## Cross Validation:"
   ]
  },
  {
   "cell_type": "code",
   "execution_count": 12,
   "metadata": {},
   "outputs": [
    {
     "name": "stdout",
     "output_type": "stream",
     "text": [
      "Cross Val Scores:[1.         1.         0.90909091 1.         0.9        1.\n",
      " 1.         0.9        0.8        0.7       ]\n"
     ]
    }
   ],
   "source": [
    "scores = cross_val_score(knn, X_train_std, y_train, cv=10, scoring='accuracy')\n",
    "print(f\"Cross Val Scores:{scores}\")"
   ]
  },
  {
   "cell_type": "code",
   "execution_count": 13,
   "metadata": {},
   "outputs": [
    {
     "name": "stdout",
     "output_type": "stream",
     "text": [
      "Cross Val Scores Mean:0.921 / Cross Val Scores Std:0.098\n"
     ]
    }
   ],
   "source": [
    "print(f\"Cross Val Scores Mean:{scores.mean():0.3f} / Cross Val Scores Std:{scores.std():0.3f}\")"
   ]
  },
  {
   "cell_type": "code",
   "execution_count": 14,
   "metadata": {},
   "outputs": [
    {
     "name": "stdout",
     "output_type": "stream",
     "text": [
      "accuracy score for k=1 is: 0.9777777777777777\n",
      "accuracy score for k=3 is: 0.9555555555555556\n",
      "accuracy score for k=5 is: 0.9555555555555556\n",
      "accuracy score for k=8 is: 0.9777777777777777\n",
      "accuracy score for k=10 is: 0.9777777777777777\n"
     ]
    }
   ],
   "source": [
    "K = [1, 3, 5, 8, 10]\n",
    "for k in K:\n",
    "    knn_ = KNN(n_neighbors=k).fit(X_train_std, y_train)\n",
    "    knn_pred_ = knn_.predict(X_test_std)\n",
    "    print(f'accuracy score for k={k} is: {accuracy_score(y_test,knn_pred_)}')"
   ]
  },
  {
   "cell_type": "markdown",
   "metadata": {},
   "source": [
    "## Drawing for differents K:"
   ]
  },
  {
   "cell_type": "code",
   "execution_count": 17,
   "metadata": {},
   "outputs": [
    {
     "data": {
      "image/png": "[encoded data removed]",
      "text/plain": [
       "<Figure size 1224x360 with 4 Axes>"
      ]
     },
     "metadata": {
      "needs_background": "light"
     },
     "output_type": "display_data"
    }
   ],
   "source": [
    "fig, axs = plt.subplots(1, 4, figsize=(17, 5))\n",
    "n_classes = len(np.unique(y))\n",
    "plot_colors = [\"red\",\"yellow\",\"black\"]\n",
    "\n",
    "res = 0.02\n",
    "X2D = X_std[:,[2,3]]\n",
    "\n",
    "x1min, x1max = X2D[:,0].min() -1, X2D[:,0].max() + 1\n",
    "x2min, x2max = X2D[:,1].min() -1, X2D[:,1].max() + 1\n",
    "xx1, xx2 = np.meshgrid(np.arange(x1min,x1max,res),np.arange(x2min,x2max,res))\n",
    "\n",
    "for k, ax in zip([1, 3, 5, 8], axs):\n",
    "    knn = KNN(n_neighbors=k).fit(X2D, y)\n",
    "    output = knn.predict(np.array([xx1.ravel(), xx2.ravel()]).T)\n",
    "    output = output.reshape(xx1.shape)\n",
    "    ax.pcolormesh(xx1,xx2, output, cmap=plt.cm.bwr)\n",
    "    ax.set_xlabel(iris.feature_names[2])\n",
    "    ax.set_ylabel(iris.feature_names[3])\n",
    "    ax.set_title(f\"{k} neighbor(s)\")  \n",
    "    plt.suptitle(\"KNN Algorithm for different K value\")\n",
    "    \n",
    "    for cl, color in zip(range(n_classes), plot_colors):  \n",
    "        ax.scatter(X2D[y==cl, 0], X2D[y==cl, 1], s=30, marker='o', c=color, edgecolor='k', label=iris.target_names[cl])\n",
    "        ax.legend(loc='best', fancybox=True)"
   ]
  },
  {
   "cell_type": "markdown",
   "metadata": {},
   "source": [
    "## Reference: \n",
    "http://scikit-learn.org/stable/modules/generated/sklearn.neighbors.KNeighborsClassifier.html"
   ]
  }
 ],
 "metadata": {
  "kernelspec": {
   "display_name": "py3.7",
   "language": "python",
   "name": "py37"
  },
  "language_info": {
   "codemirror_mode": {
    "name": "ipython",
    "version": 3
   },
   "file_extension": ".py",
   "mimetype": "text/x-python",
   "name": "python",
   "nbconvert_exporter": "python",
   "pygments_lexer": "ipython3",
   "version": "3.7.4"
  },
  "toc": {
   "base_numbering": 1,
   "nav_menu": {},
   "number_sections": true,
   "sideBar": true,
   "skip_h1_title": false,
   "title_cell": "Table of Contents",
   "title_sidebar": "Contents",
   "toc_cell": false,
   "toc_position": {},
   "toc_section_display": true,
   "toc_window_display": false
  },
  "varInspector": {
   "cols": {
    "lenName": 16,
    "lenType": 16,
    "lenVar": 40
   },
   "kernels_config": {
    "python": {
     "delete_cmd_postfix": "",
     "delete_cmd_prefix": "del ",
     "library": "var_list.py",
     "varRefreshCmd": "print(var_dic_list())"
    },
    "r": {
     "delete_cmd_postfix": ") ",
     "delete_cmd_prefix": "rm(",
     "library": "var_list.r",
     "varRefreshCmd": "cat(var_dic_list()) "
    }
   },
   "types_to_exclude": [
    "module",
    "function",
    "builtin_function_or_method",
    "instance",
    "_Feature"
   ],
   "window_display": false
  }
 },
 "nbformat": 4,
 "nbformat_minor": 2
}
